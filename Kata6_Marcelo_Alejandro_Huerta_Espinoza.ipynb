{
 "cells": [
  {
   "cell_type": "markdown",
   "metadata": {},
   "source": [
    "# Kata 6 Marcelo Alejandro Huerta Espinoza"
   ]
  },
  {
   "cell_type": "markdown",
   "metadata": {},
   "source": [
    "# Ejercicio 1: Crear y usar listas de Python"
   ]
  },
  {
   "cell_type": "markdown",
   "metadata": {},
   "source": [
    "- Ejercicio: Usar listas para almacenar nombres de planetas"
   ]
  },
  {
   "cell_type": "code",
   "execution_count": 1,
   "metadata": {},
   "outputs": [
    {
     "name": "stdout",
     "output_type": "stream",
     "text": [
      "8\n",
      "9\n",
      "The last planet from the sun is Pluto\n"
     ]
    }
   ],
   "source": [
    "# Agrega los ocho planetas (sin Plutón) a la lista\n",
    "\n",
    "planets = ['Mercury', 'Venus', 'Earth', 'Mars', 'Jupiter', 'Saturn', 'Uranus', 'Neptune']\n",
    "number_of_planets1 = len(planets)\n",
    "print(number_of_planets1)\n",
    "\n",
    "# Agrega a plutón a la lista que creaste. Luego muestra tanto el número de planetas como el último planea de la lista\n",
    "\n",
    "planets.append(\"Pluto\")\n",
    "number_of_planets = len(planets)\n",
    "print(number_of_planets)\n",
    "print(\"The last planet from the sun is\", planets[-1])"
   ]
  },
  {
   "cell_type": "markdown",
   "metadata": {},
   "source": [
    "# Ejercicio 2: Trabajando con datos de una lista"
   ]
  },
  {
   "cell_type": "markdown",
   "metadata": {},
   "source": [
    "- Ejercicio: Usar slices par recuperar partes de una lista"
   ]
  },
  {
   "cell_type": "code",
   "execution_count": 2,
   "metadata": {},
   "outputs": [
    {
     "name": "stdout",
     "output_type": "stream",
     "text": [
      "Los planetas más cercanos a Mars son los siguientes:\n",
      "['Mercury', 'Venus', 'Earth']\n",
      "Los planetas más cercanos a Mars son los siguientes:\n",
      "['Jupiter', 'Saturn', 'Neptune']\n"
     ]
    }
   ],
   "source": [
    "# Agregar un código con la lista de los planetas\n",
    "\n",
    "planets = ['Mercury', 'Venus', 'Earth', 'Mars', 'Jupiter', 'Saturn', 'Neptune']\n",
    "\n",
    "# Solicita al usuario el nombre de un planeta\n",
    "\n",
    "new_planet = input(\"Capture el nombre de un nuevo planeta, comience con Mayusculas\")\n",
    "\n",
    "# Encuentra el planeta en la lista\n",
    "\n",
    "planet_index = planets.index(new_planet)\n",
    "\n",
    "# Encuentra los planetas más cercanos al sol\n",
    "\n",
    "print('Los planetas más cercanos a', new_planet, \"son los siguientes:\")\n",
    "print(planets[0:planet_index])\n",
    "\n",
    "# Encuentras los planeas más lejanos al sol\n",
    "\n",
    "print('Los planetas más cercanos a', new_planet, \"son los siguientes:\")\n",
    "print(planets[planet_index + 1:])"
   ]
  }
 ],
 "metadata": {
  "interpreter": {
   "hash": "758144652f02702e132193def3e43e4e5577c8c930edf4124e6012965d27d0ae"
  },
  "kernelspec": {
   "display_name": "Python 3.9.5 64-bit",
   "language": "python",
   "name": "python3"
  },
  "language_info": {
   "codemirror_mode": {
    "name": "ipython",
    "version": 3
   },
   "file_extension": ".py",
   "mimetype": "text/x-python",
   "name": "python",
   "nbconvert_exporter": "python",
   "pygments_lexer": "ipython3",
   "version": "3.9.5"
  },
  "orig_nbformat": 4
 },
 "nbformat": 4,
 "nbformat_minor": 2
}
