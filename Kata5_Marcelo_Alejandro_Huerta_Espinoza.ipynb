{
 "cells": [
  {
   "cell_type": "markdown",
   "metadata": {},
   "source": [
    "# Kata 5 Marcelo Alejandro Huerta Espinoza"
   ]
  },
  {
   "cell_type": "markdown",
   "metadata": {},
   "source": [
    "# Ejercicio 1 - Utilizar operadores aritméticos"
   ]
  },
  {
   "cell_type": "markdown",
   "metadata": {},
   "source": [
    "Programa para calcular la distancia entre dos planetas"
   ]
  },
  {
   "cell_type": "code",
   "execution_count": 4,
   "metadata": {},
   "outputs": [
    {
     "name": "stdout",
     "output_type": "stream",
     "text": [
      "La distancia entre la tierra y jupiter es:  628949330  km\n",
      "La distancia entre la tierra y jupiter es:  390577533.93  milles\n"
     ]
    }
   ],
   "source": [
    "earth = 149597870\n",
    "jupiter = 778547200\n",
    "\n",
    "distancia = jupiter - earth\n",
    "print(\"La distancia entre la tierra y jupiter es: \", distancia, \" km\")\n",
    "\n",
    "dist_millas = distancia*0.621\n",
    "print(\"La distancia entre la tierra y jupiter es: \", dist_millas, \" milles\")"
   ]
  },
  {
   "cell_type": "markdown",
   "metadata": {},
   "source": [
    "# Ejercicio 2 - Convierte cadenas en números y usar valores absolutos"
   ]
  },
  {
   "cell_type": "markdown",
   "metadata": {},
   "source": [
    "Aplicación para medir la distancia desde el sol hasta dos planetas"
   ]
  },
  {
   "cell_type": "code",
   "execution_count": 9,
   "metadata": {},
   "outputs": [
    {
     "name": "stdout",
     "output_type": "stream",
     "text": [
      "La distancia en kilometros es:  36\n",
      "La distancia en millas es:  22.356\n"
     ]
    }
   ],
   "source": [
    "planet1 = input(\"Captura la primera distancia: \")\n",
    "planet2 = input(\"Captura la segunda distancia: \")\n",
    "\n",
    "planet1 = int(planet1)\n",
    "planet2 = int(planet2)\n",
    "\n",
    "distan_planeta_km = abs(planet1 - planet2)\n",
    "distan_planeta_mille = distan_planeta_km*0.621\n",
    "\n",
    "print(\"La distancia en kilometros es: \",distan_planeta_km)\n",
    "print(\"La distancia en millas es: \",distan_planeta_mille) "
   ]
  }
 ],
 "metadata": {
  "interpreter": {
   "hash": "758144652f02702e132193def3e43e4e5577c8c930edf4124e6012965d27d0ae"
  },
  "kernelspec": {
   "display_name": "Python 3.9.5 64-bit",
   "language": "python",
   "name": "python3"
  },
  "language_info": {
   "codemirror_mode": {
    "name": "ipython",
    "version": 3
   },
   "file_extension": ".py",
   "mimetype": "text/x-python",
   "name": "python",
   "nbconvert_exporter": "python",
   "pygments_lexer": "ipython3",
   "version": "3.9.5"
  },
  "orig_nbformat": 4
 },
 "nbformat": 4,
 "nbformat_minor": 2
}
